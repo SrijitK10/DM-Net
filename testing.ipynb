{
 "cells": [
  {
   "cell_type": "code",
   "execution_count": null,
   "metadata": {},
   "outputs": [
    {
     "name": "stdout",
     "output_type": "stream",
     "text": [
      "Test samples: 26000\n",
      "  37839/Unknown \u001b[1m10795s\u001b[0m 285ms/step - accuracy: 0.9968 - loss: 0.0102"
     ]
    }
   ],
   "source": []
  },
  {
   "cell_type": "code",
   "execution_count": null,
   "metadata": {},
   "outputs": [
    {
     "ename": "SyntaxError",
     "evalue": "invalid syntax (804776466.py, line 23)",
     "output_type": "error",
     "traceback": [
      "\u001b[0;36m  Cell \u001b[0;32mIn[2], line 23\u001b[0;36m\u001b[0m\n\u001b[0;31m    test_data_path = \"./csv/test.csv\"    test_samples = load_samples(test_data_path)\u001b[0m\n\u001b[0m                                         ^\u001b[0m\n\u001b[0;31mSyntaxError\u001b[0m\u001b[0;31m:\u001b[0m invalid syntax\n"
     ]
    }
   ],
   "source": [
    "import tensorflow as tf\n",
    "import numpy as np\n",
    "import pandas as pd\n",
    "import cv2\n",
    "import os\n",
    "import argparse\n",
    "import matplotlib.pyplot as plt\n",
    "from sklearn.utils import shuffle\n",
    "from sklearn.metrics import precision_score, recall_score, f1_score, roc_auc_score, roc_curve, auc\n",
    "\n",
    "from data import load_samples, data_generator\n",
    "\n",
    "# Suppress TensorFlow logs\n",
    "os.environ[\"TF_CPP_MIN_LOG_LEVEL\"] = \"2\"\n",
    "\n",
    "# Hyperparameters\n",
    "batch_size = 32\n",
    "img_size = 256\n",
    "num_classes = 2\n",
    "\n",
    "\n",
    "    # Load test data\n",
    "test_data_path = \"./csv/test.csv\"    \n",
    "\n",
    "test_samples = load_samples(test_data_path)\n",
    "\n",
    "print(f\"Number of test samples: {len(test_samples)}\")\n",
    "\n",
    "# Create test data generator\n",
    "test_generator = data_generator(test_samples, batch_size=batch_size, img_size=img_size, num_classes=num_classes)\n",
    "\n",
    "# Load the trained model\n",
    "model = tf.keras.models.load_model(\"./models/DM_NET2.keras\")\n",
    "\n",
    "    # Predict on test set\n",
    "y_true = []\n",
    "y_pred_probs = []\n",
    "    \n",
    "for batch_x, batch_y in test_generator:\n",
    "    y_true.extend(np.argmax(batch_y, axis=1))  # Convert one-hot labels to class indices\n",
    "    y_pred_probs.extend(model.predict(batch_x))  # Get probability scores\n",
    "\n",
    "    if len(y_true) >= len(test_samples):  # Stop when all samples are processed\n",
    "        break\n",
    "\n",
    "    # Convert lists to numpy arrays\n",
    "y_true = np.array(y_true)\n",
    "y_pred_probs = np.array(y_pred_probs)[:, 1]  # Take probability of class 1 (FAKE)\n",
    "\n",
    "    # Convert probabilities to binary predictions (threshold = 0.5)\n",
    "y_pred = (y_pred_probs >= 0.5).astype(int)\n",
    "\n",
    "    # Compute classification metrics\n",
    "precision = precision_score(y_true, y_pred)\n",
    "recall = recall_score(y_true, y_pred)\n",
    "f1 = f1_score(y_true, y_pred)\n",
    "roc_auc = roc_auc_score(y_true, y_pred_probs)\n",
    "\n",
    "print(f\"Precision: {precision:.4f}\")\n",
    "print(f\"Recall: {recall:.4f}\")\n",
    "print(f\"F1-score: {f1:.4f}\")\n",
    "print(f\"ROC-AUC Score: {roc_auc:.4f}\")\n",
    "\n",
    "    # Plot ROC-AUC curve\n",
    "fpr, tpr, _ = roc_curve(y_true, y_pred_probs)\n",
    "plt.figure(figsize=(8, 6))\n",
    "plt.plot(fpr, tpr, color='blue', lw=2, label=f'ROC curve (AUC = {roc_auc:.4f})')\n",
    "plt.plot([0, 1], [0, 1], color='gray', linestyle='--')  # Diagonal line\n",
    "plt.xlabel(\"False Positive Rate\")\n",
    "plt.ylabel(\"True Positive Rate\")\n",
    "plt.title(\"ROC-AUC Curve\")\n",
    "plt.legend(loc=\"lower right\")\n",
    "plt.grid()\n",
    "plt.show()\n",
    "\n",
    "\n",
    "\n"
   ]
  },
  {
   "cell_type": "code",
   "execution_count": null,
   "metadata": {},
   "outputs": [],
   "source": [
    "model.evaluate(test_generator, steps=len(test_samples))"
   ]
  }
 ],
 "metadata": {
  "kernelspec": {
   "display_name": "tensorflow",
   "language": "python",
   "name": "python3"
  },
  "language_info": {
   "codemirror_mode": {
    "name": "ipython",
    "version": 3
   },
   "file_extension": ".py",
   "mimetype": "text/x-python",
   "name": "python",
   "nbconvert_exporter": "python",
   "pygments_lexer": "ipython3",
   "version": "3.11.9"
  }
 },
 "nbformat": 4,
 "nbformat_minor": 2
}
